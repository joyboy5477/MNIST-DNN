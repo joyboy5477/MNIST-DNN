{
  "cells": [
    {
      "cell_type": "code",
      "execution_count": null,
      "metadata": {
        "id": "J3Q-uxPKLQ2B"
      },
      "outputs": [],
      "source": [
        "import tensorflow as tf\n",
        "from tensorflow import keras\n",
        "from keras.datasets import mnist\n",
        "from keras.models import Sequential\n",
        "from keras.layers import Dense, Dropout, Flatten"
      ]
    },
    {
      "cell_type": "code",
      "execution_count": null,
      "metadata": {
        "colab": {
          "base_uri": "https://localhost:8080/"
        },
        "id": "5I5Gs0q6LedV",
        "outputId": "50562599-bb50-4f4e-87e6-cb3afff8844a"
      },
      "outputs": [
        {
          "name": "stdout",
          "output_type": "stream",
          "text": [
            "Downloading data from https://storage.googleapis.com/tensorflow/tf-keras-datasets/mnist.npz\n",
            "11490434/11490434 [==============================] - 1s 0us/step\n"
          ]
        }
      ],
      "source": [
        "(x_train, y_train), (x_test, y_test) = mnist.load_data()"
      ]
    },
    {
      "cell_type": "code",
      "execution_count": null,
      "metadata": {
        "colab": {
          "base_uri": "https://localhost:8080/"
        },
        "id": "9kApPbrCMf11",
        "outputId": "c0d0134d-2fea-4c84-b43d-cde8e64dc057"
      },
      "outputs": [
        {
          "name": "stdout",
          "output_type": "stream",
          "text": [
            "(60000, 28, 28) (60000,)\n",
            "(10000, 28, 28) (10000,)\n"
          ]
        }
      ],
      "source": [
        "print(x_train.shape, y_train.shape)\n",
        "print(x_test.shape, y_test.shape)"
      ]
    },
    {
      "cell_type": "code",
      "execution_count": null,
      "metadata": {
        "id": "0o3wLy_VMqmi"
      },
      "outputs": [],
      "source": [
        "x_train = x_train.reshape(x_train.shape[0], 28,28,1)\n",
        "x_test = x_test.reshape(x_test.shape[0], 28,28,1)\n",
        "input_shape = (28,28,1)\n",
        "y_train = keras.utils.to_categorical(y_train) # our y data is categorical so use this\n",
        "y_test = keras.utils.to_categorical(y_test) #One-Hot Encoding Labels:"
      ]
    },
    {
      "cell_type": "markdown",
      "metadata": {},
      "source": [
        "Reshaping the Data:\n",
        "The MNIST dataset contains grayscale images of handwritten digits, where each image is represented as a 28x28 pixel matrix. However, to use these images as input for a CNN, they need to be reshaped into a 4D tensor with dimensions (number of samples, height, width, channels). In this case, the channel is set to 1 because the images are grayscale. The following code reshapes the training and test data to the appropriate format:"
      ]
    },
    {
      "cell_type": "markdown",
      "metadata": {
        "id": "AWR5b2XdNnKh"
      },
      "source": [
        "# preprocessing - min-max approach (pixel range between 0 to 255), after min-max (0 to 1)"
      ]
    },
    {
      "cell_type": "code",
      "execution_count": null,
      "metadata": {
        "id": "skTHKtN0Lejp"
      },
      "outputs": [],
      "source": [
        "x_train = x_train/255.0\n",
        "x_test = x_test / 255.0"
      ]
    },
    {
      "cell_type": "markdown",
      "metadata": {},
      "source": [
        "The pixel values of the grayscale images in the MNIST dataset range from 0 to 255. To improve convergence during training and ensure that all features have a similar scale, the pixel values are scaled to the range of 0 to 1 by dividing them by 255.0."
      ]
    },
    {
      "cell_type": "code",
      "execution_count": null,
      "metadata": {
        "id": "EJgYvpl2Lenx"
      },
      "outputs": [],
      "source": []
    },
    {
      "cell_type": "markdown",
      "metadata": {
        "id": "y86awbLFOttR"
      },
      "source": [
        "# Building a model"
      ]
    },
    {
      "cell_type": "code",
      "execution_count": null,
      "metadata": {
        "id": "vCuEJaQwLZ9g"
      },
      "outputs": [],
      "source": [
        "def build_model(optimizer):\n",
        "  model = Sequential()\n",
        "  model.add(Flatten()) # 2d to 1d (metrix to vector)\n",
        "  model.add(Dense(256, activation='relu', input_shape=input_shape))\n",
        "  model.add(Dropout(0.25))\n",
        "  model.add(Dense(256, activation='relu'))\n",
        "  model.add(Dropout(0.5))\n",
        "  model.add(Dense(10, activation='softmax'))\n",
        "  model.compile(optimizer=optimizer, loss=keras.losses.categorical_crossentropy, metrics=['accuracy'])\n",
        "  return model"
      ]
    },
    {
      "cell_type": "code",
      "execution_count": null,
      "metadata": {
        "colab": {
          "background_save": true,
          "base_uri": "https://localhost:8080/"
        },
        "id": "Q3Eo4yzvLaBK",
        "outputId": "b048d5e1-2014-4c43-f18d-f59c7dc509e7"
      },
      "outputs": [
        {
          "name": "stdout",
          "output_type": "stream",
          "text": [
            "Epoch 1/10\n",
            "938/938 [==============================] - 8s 7ms/step - loss: 1.1114 - accuracy: 0.6555 - val_loss: 0.4367 - val_accuracy: 0.8859\n",
            "Epoch 2/10\n",
            "938/938 [==============================] - 6s 7ms/step - loss: 0.5276 - accuracy: 0.8417 - val_loss: 0.3194 - val_accuracy: 0.9107\n",
            "Epoch 3/10\n",
            "938/938 [==============================] - 7s 7ms/step - loss: 0.4203 - accuracy: 0.8761 - val_loss: 0.2717 - val_accuracy: 0.9210\n",
            "Epoch 4/10\n",
            "938/938 [==============================] - 6s 7ms/step - loss: 0.3635 - accuracy: 0.8924 - val_loss: 0.2429 - val_accuracy: 0.9281\n",
            "Epoch 5/10\n",
            "938/938 [==============================] - 6s 7ms/step - loss: 0.3275 - accuracy: 0.9039 - val_loss: 0.2228 - val_accuracy: 0.9342\n",
            "Epoch 6/10\n",
            "938/938 [==============================] - 6s 7ms/step - loss: 0.2978 - accuracy: 0.9132 - val_loss: 0.2032 - val_accuracy: 0.9391\n",
            "Epoch 7/10\n",
            "938/938 [==============================] - 7s 7ms/step - loss: 0.2770 - accuracy: 0.9175 - val_loss: 0.1885 - val_accuracy: 0.9419\n",
            "Epoch 8/10\n",
            "938/938 [==============================] - 7s 7ms/step - loss: 0.2584 - accuracy: 0.9237 - val_loss: 0.1772 - val_accuracy: 0.9468\n",
            "Epoch 9/10\n",
            "938/938 [==============================] - 7s 7ms/step - loss: 0.2415 - accuracy: 0.9291 - val_loss: 0.1656 - val_accuracy: 0.9499\n",
            "Epoch 10/10\n",
            "938/938 [==============================] - 9s 9ms/step - loss: 0.2297 - accuracy: 0.9323 - val_loss: 0.1568 - val_accuracy: 0.9526\n",
            "Epoch 1/10\n",
            "938/938 [==============================] - 9s 9ms/step - loss: 1.7705 - accuracy: 0.4373 - val_loss: 1.0914 - val_accuracy: 0.7729\n",
            "Epoch 2/10\n",
            "938/938 [==============================] - 7s 8ms/step - loss: 1.0495 - accuracy: 0.6868 - val_loss: 0.6616 - val_accuracy: 0.8458\n",
            "Epoch 3/10\n",
            "938/938 [==============================] - 7s 7ms/step - loss: 0.7933 - accuracy: 0.7592 - val_loss: 0.5183 - val_accuracy: 0.8710\n",
            "Epoch 4/10\n",
            "938/938 [==============================] - 8s 9ms/step - loss: 0.6725 - accuracy: 0.7955 - val_loss: 0.4480 - val_accuracy: 0.8853\n",
            "Epoch 5/10\n",
            "938/938 [==============================] - 8s 8ms/step - loss: 0.6024 - accuracy: 0.8186 - val_loss: 0.4052 - val_accuracy: 0.8925\n",
            "Epoch 6/10\n",
            "938/938 [==============================] - 8s 8ms/step - loss: 0.5521 - accuracy: 0.8338 - val_loss: 0.3773 - val_accuracy: 0.8986\n",
            "Epoch 7/10\n",
            "938/938 [==============================] - 7s 7ms/step - loss: 0.5176 - accuracy: 0.8467 - val_loss: 0.3556 - val_accuracy: 0.9038\n",
            "Epoch 8/10\n",
            "938/938 [==============================] - 8s 8ms/step - loss: 0.4922 - accuracy: 0.8523 - val_loss: 0.3389 - val_accuracy: 0.9073\n",
            "Epoch 9/10\n",
            "938/938 [==============================] - 8s 8ms/step - loss: 0.4677 - accuracy: 0.8606 - val_loss: 0.3258 - val_accuracy: 0.9108\n",
            "Epoch 10/10\n",
            "938/938 [==============================] - 7s 8ms/step - loss: 0.4524 - accuracy: 0.8650 - val_loss: 0.3151 - val_accuracy: 0.9128\n",
            "Epoch 1/10\n",
            "938/938 [==============================] - 10s 10ms/step - loss: 2.3813 - accuracy: 0.1107 - val_loss: 2.2706 - val_accuracy: 0.1488\n",
            "Epoch 2/10\n",
            "938/938 [==============================] - 8s 9ms/step - loss: 2.2912 - accuracy: 0.1401 - val_loss: 2.1845 - val_accuracy: 0.2333\n",
            "Epoch 3/10\n",
            "938/938 [==============================] - 9s 10ms/step - loss: 2.2131 - accuracy: 0.1788 - val_loss: 2.1053 - val_accuracy: 0.3502\n",
            "Epoch 4/10\n",
            "938/938 [==============================] - 9s 10ms/step - loss: 2.1443 - accuracy: 0.2259 - val_loss: 2.0287 - val_accuracy: 0.4712\n",
            "Epoch 5/10\n",
            "938/938 [==============================] - 9s 9ms/step - loss: 2.0744 - accuracy: 0.2783 - val_loss: 1.9525 - val_accuracy: 0.5775\n",
            "Epoch 6/10\n",
            "938/938 [==============================] - 9s 10ms/step - loss: 2.0008 - accuracy: 0.3324 - val_loss: 1.8751 - val_accuracy: 0.6421\n",
            "Epoch 7/10\n",
            "938/938 [==============================] - 9s 10ms/step - loss: 1.9381 - accuracy: 0.3763 - val_loss: 1.7972 - val_accuracy: 0.6813\n",
            "Epoch 8/10\n",
            "938/938 [==============================] - 9s 9ms/step - loss: 1.8688 - accuracy: 0.4241 - val_loss: 1.7179 - val_accuracy: 0.7098\n",
            "Epoch 9/10\n",
            "938/938 [==============================] - 9s 10ms/step - loss: 1.7998 - accuracy: 0.4608 - val_loss: 1.6376 - val_accuracy: 0.7342\n",
            "Epoch 10/10\n",
            "938/938 [==============================] - 9s 10ms/step - loss: 1.7309 - accuracy: 0.4996 - val_loss: 1.5576 - val_accuracy: 0.7502\n",
            "Epoch 1/10\n",
            "938/938 [==============================] - 9s 9ms/step - loss: 0.3150 - accuracy: 0.9050 - val_loss: 0.1214 - val_accuracy: 0.9629\n",
            "Epoch 2/10\n",
            "938/938 [==============================] - 7s 8ms/step - loss: 0.1473 - accuracy: 0.9566 - val_loss: 0.0921 - val_accuracy: 0.9733\n",
            "Epoch 3/10\n",
            "938/938 [==============================] - 8s 8ms/step - loss: 0.1174 - accuracy: 0.9659 - val_loss: 0.0891 - val_accuracy: 0.9749\n",
            "Epoch 4/10\n",
            "938/938 [==============================] - 8s 9ms/step - loss: 0.1040 - accuracy: 0.9721 - val_loss: 0.0866 - val_accuracy: 0.9755\n",
            "Epoch 5/10\n",
            "938/938 [==============================] - 7s 7ms/step - loss: 0.0918 - accuracy: 0.9746 - val_loss: 0.0866 - val_accuracy: 0.9784\n",
            "Epoch 6/10\n",
            "938/938 [==============================] - 7s 8ms/step - loss: 0.0853 - accuracy: 0.9770 - val_loss: 0.0839 - val_accuracy: 0.9796\n",
            "Epoch 7/10\n",
            "938/938 [==============================] - 7s 7ms/step - loss: 0.0789 - accuracy: 0.9794 - val_loss: 0.0772 - val_accuracy: 0.9807\n",
            "Epoch 8/10\n",
            "938/938 [==============================] - 8s 8ms/step - loss: 0.0700 - accuracy: 0.9817 - val_loss: 0.0798 - val_accuracy: 0.9817\n",
            "Epoch 9/10\n",
            "938/938 [==============================] - 8s 8ms/step - loss: 0.0708 - accuracy: 0.9812 - val_loss: 0.0733 - val_accuracy: 0.9831\n",
            "Epoch 10/10\n",
            "938/938 [==============================] - 7s 8ms/step - loss: 0.0637 - accuracy: 0.9833 - val_loss: 0.0891 - val_accuracy: 0.9815\n",
            "Epoch 1/10\n",
            "938/938 [==============================] - 9s 9ms/step - loss: 0.3276 - accuracy: 0.9006 - val_loss: 0.1190 - val_accuracy: 0.9626\n",
            "Epoch 2/10\n",
            "938/938 [==============================] - 7s 7ms/step - loss: 0.1485 - accuracy: 0.9553 - val_loss: 0.0873 - val_accuracy: 0.9735\n",
            "Epoch 3/10\n",
            "938/938 [==============================] - 8s 8ms/step - loss: 0.1109 - accuracy: 0.9669 - val_loss: 0.0787 - val_accuracy: 0.9760\n",
            "Epoch 4/10\n",
            "938/938 [==============================] - 8s 9ms/step - loss: 0.0932 - accuracy: 0.9716 - val_loss: 0.0698 - val_accuracy: 0.9787\n",
            "Epoch 5/10\n",
            "938/938 [==============================] - 7s 8ms/step - loss: 0.0787 - accuracy: 0.9753 - val_loss: 0.0709 - val_accuracy: 0.9800\n",
            "Epoch 6/10\n",
            "938/938 [==============================] - 8s 8ms/step - loss: 0.0739 - accuracy: 0.9774 - val_loss: 0.0803 - val_accuracy: 0.9765\n",
            "Epoch 7/10\n",
            "938/938 [==============================] - 7s 8ms/step - loss: 0.0660 - accuracy: 0.9800 - val_loss: 0.0681 - val_accuracy: 0.9803\n",
            "Epoch 8/10\n",
            "938/938 [==============================] - 7s 8ms/step - loss: 0.0595 - accuracy: 0.9808 - val_loss: 0.0715 - val_accuracy: 0.9793\n",
            "Epoch 9/10\n",
            "938/938 [==============================] - 8s 8ms/step - loss: 0.0565 - accuracy: 0.9826 - val_loss: 0.0727 - val_accuracy: 0.9802\n",
            "Epoch 10/10\n",
            "938/938 [==============================] - 7s 8ms/step - loss: 0.0507 - accuracy: 0.9841 - val_loss: 0.0686 - val_accuracy: 0.9813\n"
          ]
        }
      ],
      "source": [
        "# Train the model\n",
        "optimizers = ['SGD', 'Adagrad', 'Adadelta', 'RMSprop', 'Adam']\n",
        "\n",
        "for i in optimizers:\n",
        "  model = build_model(i)\n",
        "  history = model.fit(x_train, y_train, validation_data=(x_test, y_test), batch_size=64, epochs=10, verbose=1)"
      ]
    },
    {
      "cell_type": "code",
      "execution_count": null,
      "metadata": {
        "id": "8m5eMLUNLaEe"
      },
      "outputs": [],
      "source": [
        "# conclusion\n"
      ]
    },
    {
      "cell_type": "code",
      "execution_count": null,
      "metadata": {
        "id": "ugFoel8HLaHn"
      },
      "outputs": [],
      "source": []
    },
    {
      "cell_type": "code",
      "execution_count": null,
      "metadata": {
        "id": "vnqO21EwLaKo"
      },
      "outputs": [],
      "source": []
    }
  ],
  "metadata": {
    "accelerator": "GPU",
    "colab": {
      "provenance": []
    },
    "gpuClass": "standard",
    "kernelspec": {
      "display_name": "Python 3",
      "name": "python3"
    },
    "language_info": {
      "name": "python"
    }
  },
  "nbformat": 4,
  "nbformat_minor": 0
}
